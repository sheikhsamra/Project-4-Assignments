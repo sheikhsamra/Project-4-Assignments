{
  "nbformat": 4,
  "nbformat_minor": 0,
  "metadata": {
    "colab": {
      "provenance": [],
      "authorship_tag": "ABX9TyNQoxccn3x/XrQSaYa8+X9L",
      "include_colab_link": true
    },
    "kernelspec": {
      "name": "python3",
      "display_name": "Python 3"
    },
    "language_info": {
      "name": "python"
    }
  },
  "cells": [
    {
      "cell_type": "markdown",
      "metadata": {
        "id": "view-in-github",
        "colab_type": "text"
      },
      "source": [
        "<a href=\"https://colab.research.google.com/github/sheikhsamra/Project-4-Assignments/blob/main/02_intermediate.ipynb\" target=\"_parent\"><img src=\"https://colab.research.google.com/assets/colab-badge.svg\" alt=\"Open In Colab\"/></a>"
      ]
    },
    {
      "cell_type": "markdown",
      "source": [
        "**Control Flow for Console**\n",
        "\n",
        "**High Low**\n",
        "\n",
        "**Problem: High Low**\n",
        "We want you to gain more experience working with control flow and Booleans in Python. To do this, we are going to have you develop a game! The game is called High-Low and the way it's played goes as follows:\n",
        "\n",
        "Two numbers are generated from 1 to 100 (inclusive on both ends): one for you and one for a computer, who will be your opponent. You can see your number, but not the computer's!\n",
        "\n",
        "You make a guess, saying your number is either higher than or lower than the computer's number\n",
        "\n",
        "If your guess matches the truth (ex. you guess your number is higher, and then your number is actually higher than the computer's), you get a point!\n",
        "\n",
        "These steps make up one round of the game. The game is over after all rounds have been played."
      ],
      "metadata": {
        "id": "z2ztnIWwCmJD"
      }
    },
    {
      "cell_type": "code",
      "execution_count": 3,
      "metadata": {
        "colab": {
          "base_uri": "https://localhost:8080/"
        },
        "id": "Obv4IoCUCYft",
        "outputId": "76735dac-6fca-40fc-b230-140e7049cc3a"
      },
      "outputs": [
        {
          "output_type": "stream",
          "name": "stdout",
          "text": [
            "High Low\n",
            "Welcome to the High Low Game\n",
            "*****************************\n",
            "Round 1\n",
            "Your Number is: 76\n",
            "Do you think your number is higher or lower than the computer's number? higher\n",
            "That's incorrect. The computer's number was 93\n",
            "Your score is now 0\n",
            "\n",
            "Round 2\n",
            "Your Number is: 33\n",
            "Do you think your number is higher or lower than the computer's number? lower\n",
            "You were right! The computer's number was 46\n",
            "Your score is now 1\n",
            "\n",
            "Round 3\n",
            "Your Number is: 78\n",
            "Do you think your number is higher or lower than the computer's number? higher\n",
            "You were right! The computer's number was 31\n",
            "Your score is now 2\n",
            "\n",
            "Round 4\n",
            "Your Number is: 12\n",
            "Do you think your number is higher or lower than the computer's number? lower\n",
            "That's incorrect. The computer's number was 6\n",
            "Your score is now 2\n",
            "\n",
            "Round 5\n",
            "Your Number is: 38\n",
            "Do you think your number is higher or lower than the computer's number? lower\n",
            "That's incorrect. The computer's number was 19\n",
            "Your score is now 2\n",
            "\n",
            "Thanks for playing!\n"
          ]
        }
      ],
      "source": [
        "import random\n",
        "\n",
        "print(\"High Low\")\n",
        "\n",
        "rounds = 5\n",
        "\n",
        "def main():\n",
        "    print(\"Welcome to the High Low Game\")\n",
        "    print(\"*****************************\")\n",
        "\n",
        "    score = 0\n",
        "\n",
        "    for i in range(rounds):\n",
        "        print(\"Round\", i + 1)\n",
        "\n",
        "        computer_number = random.randint(1, 100)\n",
        "        your_number = random.randint(1, 100)\n",
        "        print(\"Your Number is:\", your_number)\n",
        "\n",
        "        choice = input(\"Do you think your number is higher or lower than the computer's number? \").lower()\n",
        "\n",
        "        higher_and_correct = choice == \"higher\" and your_number > computer_number\n",
        "        lower_and_correct = choice == \"lower\" and your_number < computer_number\n",
        "\n",
        "        if higher_and_correct or lower_and_correct:\n",
        "            print(\"You were right! The computer's number was\", computer_number)\n",
        "            score += 1\n",
        "        else:\n",
        "            print(\"That's incorrect. The computer's number was\", computer_number)\n",
        "\n",
        "        print(\"Your score is now\", score)\n",
        "        print()\n",
        "\n",
        "    print(\"Thanks for playing!\")\n",
        "\n",
        "if __name__ == \"__main__\":\n",
        "    main()\n"
      ]
    },
    {
      "cell_type": "markdown",
      "source": [
        "**Intro to Python**\n",
        "\n",
        "**Problem: Planetary Weight Calculator**\n",
        "\n",
        "**Milestone #1: Mars Weight**\n",
        "\n",
        "\n",
        "A few years ago, NASA made history with the first controlled flight on another planet. Its latest Mars Rover, Perseverance, has onboard a 50cm high helicopter called Ingenuity. Ingenuity made its third flight, during which it flew faster and further than it had on any of its test flights on Earth. Interestingly, Ingenuity uses Python for some of its flight modeling software!\n",
        "\n",
        "Ingenuity on the surface of Mars (source: NASA)\n",
        "\n",
        "When programming Ingenuity, one of the things that NASA engineers need to account for is the fact that due to the weaker gravity on Mars, an Earthling's weight on Mars is 37.8% of their weight on Earth. Write a Python program that prompts an Earthling to enter their weight on Earth and prints their calculated weight on Mars.\n",
        "\n",
        "The output should be rounded to two decimal places when necessary. Python has a round function which can help you with this. You pass in the value to be rounded and the number of decimal places to use. In the example below, the number 3.1415926 is rounded to 2 decimal places which is 3.14."
      ],
      "metadata": {
        "id": "oNlCRsZmIi-b"
      }
    },
    {
      "cell_type": "code",
      "source": [
        "print(\"Planetary Weight Calculator\")\n",
        "\n",
        "def main():\n",
        "  print(\"Welcome to the Planetary Weight Calculator\")\n",
        "  print(\"*******************************************\")\n",
        "\n",
        "earth_weight = float(input(\"Enter your weight on Earth: \"))\n",
        "\n",
        "gravity_ratio ={\n",
        "    \"Mercury\": 0.38,\n",
        "    \"Venus\": 0.91,\n",
        "    \"Mars\": 0.38,\n",
        "    \"Jupiter\": 2.34,\n",
        "    \"Saturn\": 0.93,\n",
        "    \"Uranus\": 0.92,\n",
        "    \"Neptune\": 1.19,\n",
        "    \"Pluto\": 0.06\n",
        "}\n",
        "\n",
        "print(\"\\n Select a planet\")\n",
        "for planet in gravity_ratio:\n",
        "    print(f'- {planet}')\n",
        "\n",
        "planet_choice = input(\"Enter the name of the planet: \").title()\n",
        "\n",
        "if planet_choice in gravity_ratio:\n",
        "   new_weight = earth_weight * gravity_ratio[planet_choice]\n",
        "   print(f'Your weight on {planet_choice} is {new_weight:.2f} kg')\n",
        "else:\n",
        "  print(\"Invalid planet choice\")\n",
        "\n",
        "if __name__ == \"__main__\":\n",
        "  main()\n",
        ""
      ],
      "metadata": {
        "colab": {
          "base_uri": "https://localhost:8080/"
        },
        "id": "rzcMNdeCI8_O",
        "outputId": "7bf36595-a242-40d5-c531-b307388568bf"
      },
      "execution_count": 5,
      "outputs": [
        {
          "output_type": "stream",
          "name": "stdout",
          "text": [
            "Planetary Weight Calculator\n",
            "Enter your weight on Earth: 20\n",
            "\n",
            " Select a planet\n",
            "- Mercury\n",
            "- Venus\n",
            "- Mars\n",
            "- Jupiter\n",
            "- Saturn\n",
            "- Uranus\n",
            "- Neptune\n",
            "- Pluto\n",
            "Enter the name of the planet: saturn\n",
            "Your weight on Saturn is 18.60 kg\n",
            "Welcome to the Planetary Weight Calculator\n",
            "*******************************************\n"
          ]
        }
      ]
    },
    {
      "cell_type": "markdown",
      "source": [
        "**Lists and Dicts**\n",
        "\n",
        "**Problem #1: List Practice**\n",
        "\n",
        "Now practice writing code with lists! Implement the functionality described in the comments below.\n",
        "\n",
        "**Problem #2: Index Game**\n",
        "\n",
        "As a warmup, read this code and play the game a few times. Use this mental model of the list:"
      ],
      "metadata": {
        "id": "thN5O-WXLzJI"
      }
    },
    {
      "cell_type": "code",
      "source": [
        "print(\"Lists and Dicts\")\n",
        "\n",
        "my_list = [\"Apple\", \"Mango\", \"Pear\", \"Peach\", \"Orange\"]\n",
        "\n",
        "def access_element(my_list, index):\n",
        "    \"\"\"Returns the element at the specified index, or an error message if out of range.\"\"\"\n",
        "    if 0 <= index < len(my_list):\n",
        "        return f'Element at index {index}: {my_list[index]}'\n",
        "    return \"Index out of range\"\n",
        "\n",
        "def modify_element(my_list, index, new_value):\n",
        "    \"\"\"Modifies the element at the specified index with the new value.\"\"\"\n",
        "    if 0 <= index < len(my_list):\n",
        "        old_value = my_list[index]\n",
        "        my_list[index] = new_value\n",
        "        return f'Element at index {index} modified from {old_value} to {new_value}'\n",
        "    return \"Index out of range\"\n",
        "\n",
        "def slice_list(my_list, start, end):\n",
        "    \"\"\"Returns a new list containing the elements from start to end (exclusive).\"\"\"\n",
        "    if 0 <= start < len(my_list) and 0 <= end <= len(my_list):\n",
        "        return f'Sliced list: {my_list[start:end]}'\n",
        "    return \"Invalid slice indices!\"\n",
        "\n",
        "def list_game():\n",
        "    print(\"\\nWelcome to the List Manipulation Game!\")\n",
        "    my_list = [\"Apple\", \"Mango\", \"Pear\", \"Peach\", \"Orange\"]\n",
        "\n",
        "    while True:\n",
        "        print(\"\\nCurrent list:\", my_list)\n",
        "        print(\"Select an Operation\")\n",
        "        print(\"1. Access Element\")\n",
        "        print(\"2. Modify Element\")\n",
        "        print(\"3. Slice List\")\n",
        "        print(\"4. Quit\")\n",
        "\n",
        "        choice = input(\"Enter your choice (1-4): \")\n",
        "        if choice == \"1\":\n",
        "            index = int(input(\"Enter the index of the element you want to access: \"))\n",
        "            print(access_element(my_list, index))\n",
        "        elif choice == \"2\":\n",
        "            index = int(input(\"Enter the index of the element you want to modify: \"))\n",
        "            new_value = input(\"Enter the new value for the element: \")\n",
        "            print(modify_element(my_list, index, new_value))\n",
        "        elif choice == \"3\":\n",
        "            start = int(input(\"Enter the start index of the slice: \"))\n",
        "            end = int(input(\"Enter the end index of the slice: \"))\n",
        "            print(slice_list(my_list, start, end))\n",
        "        elif choice == \"4\":\n",
        "            print(\"Exiting the game, thanks for playing!\")\n",
        "            break\n",
        "        else:\n",
        "            print(\"Invalid choice. Please enter a number between 1 and 4.\")\n",
        "\n",
        "if __name__ == '__main__':\n",
        "    list_game()\n"
      ],
      "metadata": {
        "colab": {
          "base_uri": "https://localhost:8080/"
        },
        "id": "uPJh7aW3L712",
        "outputId": "88b6290c-fd3d-4987-b25f-a8e051a0fa27"
      },
      "execution_count": 10,
      "outputs": [
        {
          "output_type": "stream",
          "name": "stdout",
          "text": [
            "Lists and Dicts\n",
            "\n",
            "Welcome to the List Manipulation Game!\n",
            "\n",
            "Current list: ['Apple', 'Mango', 'Pear', 'Peach', 'Orange']\n",
            "Select an Operation\n",
            "1. Access Element\n",
            "2. Modify Element\n",
            "3. Slice List\n",
            "4. Quit\n",
            "Enter your choice (1-4): 1\n",
            "Enter the index of the element you want to access: 2\n",
            "Element at index 2: Pear\n",
            "\n",
            "Current list: ['Apple', 'Mango', 'Pear', 'Peach', 'Orange']\n",
            "Select an Operation\n",
            "1. Access Element\n",
            "2. Modify Element\n",
            "3. Slice List\n",
            "4. Quit\n",
            "Enter your choice (1-4): 3\n",
            "Enter the start index of the slice: 2\n",
            "Enter the end index of the slice: 4\n",
            "Sliced list: ['Pear', 'Peach']\n",
            "\n",
            "Current list: ['Apple', 'Mango', 'Pear', 'Peach', 'Orange']\n",
            "Select an Operation\n",
            "1. Access Element\n",
            "2. Modify Element\n",
            "3. Slice List\n",
            "4. Quit\n",
            "Enter your choice (1-4): 3\n",
            "Enter the start index of the slice: 1\n",
            "Enter the end index of the slice: 3\n",
            "Sliced list: ['Mango', 'Pear']\n",
            "\n",
            "Current list: ['Apple', 'Mango', 'Pear', 'Peach', 'Orange']\n",
            "Select an Operation\n",
            "1. Access Element\n",
            "2. Modify Element\n",
            "3. Slice List\n",
            "4. Quit\n",
            "Enter your choice (1-4): 2\n",
            "Enter the index of the element you want to modify: 3\n",
            "Enter the new value for the element: banana\n",
            "Element at index 3 modified from Peach to banana\n",
            "\n",
            "Current list: ['Apple', 'Mango', 'Pear', 'banana', 'Orange']\n",
            "Select an Operation\n",
            "1. Access Element\n",
            "2. Modify Element\n",
            "3. Slice List\n",
            "4. Quit\n",
            "Enter your choice (1-4): 4\n",
            "Exiting the game, thanks for playing!\n"
          ]
        }
      ]
    }
  ]
}